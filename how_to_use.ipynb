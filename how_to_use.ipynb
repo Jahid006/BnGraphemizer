{
 "cells": [
  {
   "cell_type": "code",
   "execution_count": null,
   "metadata": {},
   "outputs": [],
   "source": [
    "import json\n",
    "from BnGraphemizer import MarisaTokenizer, TrieTokenizer\n",
    "from BnGraphemizer.base import GraphemeTokenizer"
   ]
  },
  {
   "cell_type": "code",
   "execution_count": null,
   "metadata": {},
   "outputs": [],
   "source": [
    "words = list(\n",
    "    json.load(open('/mnt/JaHiD/Zahid/RnD/bengali_ocr/DataGeneration/syn50000.json', 'r')\n",
    "    ).values()\n",
    ")\n",
    "graphemes = json.load(open('/mnt/JaHiD/Zahid/RnD/BengaliGraphemeRecognitionRefactored/2145.json_20230206_21.35.23.json', 'r'))\n",
    "\n",
    "marisa_tokenizer = GraphemeTokenizer(\n",
    "    tokenizer_class=MarisaTokenizer,\n",
    "    max_len=64,\n",
    "    normalize_unicode=True,\n",
    "    normalization_mode='NFKC',\n",
    "    normalizer=\"buetNormalizer\",\n",
    "    printer=print\n",
    "\n",
    ")\n",
    "marisa_tokenizer.add_tokens(graphemes,reset_oov=True)\n",
    "\n",
    "own_tokenizer = GraphemeTokenizer(\n",
    "    tokenizer_class=TrieTokenizer,\n",
    "    max_len=64,\n",
    "    normalize_unicode=True,\n",
    "    normalization_mode='NFKC',\n",
    "    normalizer=\"buetNormalizer\",\n",
    "    printer=print\n",
    "\n",
    ")\n",
    "own_tokenizer.add_tokens(graphemes,reset_oov=True)"
   ]
  },
  {
   "cell_type": "code",
   "execution_count": null,
   "metadata": {},
   "outputs": [],
   "source": [
    "marisa_tokenizer([\"মতামত\", \"সম্পাদকীয়\"]), marisa_tokenizer.out_of_vocobulary_frequency, marisa_tokenizer.out_of_vocabulary_info"
   ]
  },
  {
   "cell_type": "code",
   "execution_count": null,
   "metadata": {},
   "outputs": [],
   "source": [
    "own_tokenizer([\"মতামত\", \"সম্পাদকীয়\"]), own_tokenizer.out_of_vocobulary_frequency, own_tokenizer.out_of_vocabulary_info"
   ]
  },
  {
   "cell_type": "code",
   "execution_count": null,
   "metadata": {},
   "outputs": [],
   "source": [
    "own_tokenizer.tokenize([\"সাম্‌লাচ্ছিলেন\", \"সাম্‌লাচ্ছিলেন\"]),  own_tokenizer.out_of_vocobulary_frequency, own_tokenizer.out_of_vocabulary_info"
   ]
  },
  {
   "cell_type": "code",
   "execution_count": null,
   "metadata": {},
   "outputs": [],
   "source": [
    "marisa_tokenizer.tokenize([\"সাম্‌লাচ্ছিলেন\", \"সাম্‌লাচ্ছিলেন\"]),  marisa_tokenizer.out_of_vocobulary_frequency, marisa_tokenizer.out_of_vocabulary_info"
   ]
  },
  {
   "cell_type": "code",
   "execution_count": null,
   "metadata": {},
   "outputs": [],
   "source": [
    "from tqdm import tqdm\n",
    "for w in tqdm(words):\n",
    "    marisa_tokenizer(w)"
   ]
  },
  {
   "cell_type": "code",
   "execution_count": null,
   "metadata": {},
   "outputs": [],
   "source": [
    "for w in tqdm(words):\n",
    "    own_tokenizer(w)"
   ]
  },
  {
   "cell_type": "code",
   "execution_count": null,
   "metadata": {},
   "outputs": [],
   "source": [
    "(\n",
    "    #own_tokenizer.most_frequent_tokens(topk=100), #  most_frequent_tokens\n",
    "    own_tokenizer.unused_tokens,  # unsed tokens\n",
    "    #own_tokenizer.frequency_counter, # frequency of all tokens\n",
    ")"
   ]
  },
  {
   "cell_type": "code",
   "execution_count": null,
   "metadata": {},
   "outputs": [],
   "source": [
    "(\n",
    "    #own_tokenizer.out_of_vocabulary_info,\n",
    "    #own_tokenizer.out_of_vocobulary_tokens,\n",
    "    own_tokenizer.out_of_vocobulary_frequency,\n",
    ")\n",
    "    "
   ]
  },
  {
   "cell_type": "code",
   "execution_count": null,
   "metadata": {},
   "outputs": [],
   "source": [
    "own_tokenizer.save(\"temp/tokenizer_object.pkl\")\n",
    "own_tokenizer.save_vocab('temp/vocobulary.json')\n",
    "own_tokenizer.save_out_of_vocobulary_info('temp/save_out_of_vocobulary_info.json')"
   ]
  },
  {
   "cell_type": "code",
   "execution_count": null,
   "metadata": {},
   "outputs": [],
   "source": [
    "own_tokenizer.load(\"temp/tokenizer_object_20230131_21.40.06.pkl\")"
   ]
  }
 ],
 "metadata": {
  "kernelspec": {
   "display_name": "pytorch1.10",
   "language": "python",
   "name": "python3"
  },
  "language_info": {
   "codemirror_mode": {
    "name": "ipython",
    "version": 3
   },
   "file_extension": ".py",
   "mimetype": "text/x-python",
   "name": "python",
   "nbconvert_exporter": "python",
   "pygments_lexer": "ipython3",
   "version": "3.9.13"
  },
  "orig_nbformat": 4,
  "vscode": {
   "interpreter": {
    "hash": "ed5d878878b9f6b71826320145ffe862892db6a15203f4cdc0137670dfd93d2b"
   }
  }
 },
 "nbformat": 4,
 "nbformat_minor": 2
}
