{
 "cells": [
  {
   "cell_type": "code",
   "execution_count": 1,
   "metadata": {},
   "outputs": [],
   "source": [
    "import json, tqdm\n",
    "from BnGraphemizer import TrieTokenizer\n",
    "from BnGraphemizer.base import GraphemeTokenizer"
   ]
  },
  {
   "cell_type": "code",
   "execution_count": null,
   "metadata": {},
   "outputs": [],
   "source": [
    "word_to_be_tokenized = list(\n",
    "    json.load(open('word_list.json', 'r')\n",
    "    ).values()\n",
    ")\n",
    "list_of_graphemes = sorted(list(set([i.strip() for i in  open('bn_grapheme_1296_from_bengali.ai.buet.txt', 'r').readlines() if i.strip()])))"
   ]
  },
  {
   "cell_type": "code",
   "execution_count": 3,
   "metadata": {},
   "outputs": [
    {
     "name": "stdout",
     "output_type": "stream",
     "text": [
      "Selected Tokenizer: TrieTokenizer\n",
      "Max Sequence Length: 64\n",
      "Normalize Text: True\n",
      "Normalizar: buetNormalizer\n",
      "Normalization Mode: NFKC\n",
      "Warning: \"out_of_vocabulary_info\" will be updated as per new vocab\n",
      "update completed.[398] new vocabs added. Current vocab count: 400\n"
     ]
    }
   ],
   "source": [
    "bn_graphmemizer = GraphemeTokenizer(\n",
    "    tokenizer_class=TrieTokenizer,\n",
    "    max_len=64,\n",
    "    normalize_unicode=True,\n",
    "    normalization_mode='NFKC',\n",
    "    normalizer=\"buetNormalizer\",\n",
    "    printer=print\n",
    ")\n",
    "bn_graphmemizer.add_tokens(list_of_graphemes,reset_oov=True)"
   ]
  },
  {
   "cell_type": "code",
   "execution_count": 5,
   "metadata": {},
   "outputs": [
    {
     "data": {
      "text/plain": [
       "([{'tokens': ['সা', 'ম্লা', 'চ্', 'ছি', 'লে', 'ন'],\n",
       "   'input_ids': [330, 305, 99, 103, 315, 219],\n",
       "   'token_len': 6,\n",
       "   'attention_mask': [1, 1, 1, 1, 1, 1]},\n",
       "  {'tokens': ['সা', 'ম্লা', 'চ্', 'ছি', 'লে', 'ন'],\n",
       "   'input_ids': [330, 305, 99, 103, 315, 219],\n",
       "   'token_len': 6,\n",
       "   'attention_mask': [1, 1, 1, 1, 1, 1]}],\n",
       " {},\n",
       " defaultdict(set, {}))"
      ]
     },
     "execution_count": 5,
     "metadata": {},
     "output_type": "execute_result"
    }
   ],
   "source": [
    "# testing\n",
    "bn_graphmemizer.tokenize([\"সাম্‌লাচ্ছিলেন\", \"সাম্‌লাচ্ছিলেন\"]),  bn_graphmemizer.out_of_vocobulary_frequency, bn_graphmemizer.out_of_vocabulary_info"
   ]
  },
  {
   "cell_type": "code",
   "execution_count": 6,
   "metadata": {},
   "outputs": [
    {
     "name": "stderr",
     "output_type": "stream",
     "text": [
      "100%|██████████| 2820932/2820932 [02:35<00:00, 18102.59it/s]\n",
      "100%|██████████| 2820932/2820932 [02:37<00:00, 17923.64it/s]\n"
     ]
    }
   ],
   "source": [
    "# provides two interface for tokenization\n",
    "# first one, which acts as callable, also collect the statistics\n",
    "for w in tqdm.tqdm(word_to_be_tokenized):\n",
    "    _ = bn_graphmemizer(w)\n",
    "\n",
    "# second inferface, which you does the same thing, but stats are not collected\n",
    "for w in tqdm.tqdm(word_to_be_tokenized):\n",
    "    _ = bn_graphmemizer.tokenize(w)"
   ]
  },
  {
   "cell_type": "code",
   "execution_count": null,
   "metadata": {},
   "outputs": [],
   "source": [
    "(\n",
    "    bn_graphmemizer.most_frequent_tokens(topk=100), #  most_frequent_tokens\n",
    "    bn_graphmemizer.unused_tokens,  # unsed tokens\n",
    "    bn_graphmemizer.frequency_counter, # frequency of all tokens\n",
    ")"
   ]
  },
  {
   "cell_type": "code",
   "execution_count": null,
   "metadata": {},
   "outputs": [],
   "source": [
    "(\n",
    "    bn_graphmemizer.out_of_vocabulary_info,\n",
    "    bn_graphmemizer.out_of_vocobulary_tokens,\n",
    "    bn_graphmemizer.out_of_vocobulary_frequency,\n",
    ")"
   ]
  },
  {
   "cell_type": "code",
   "execution_count": null,
   "metadata": {},
   "outputs": [],
   "source": [
    "bn_graphmemizer.save(\"temp/tokenizer_object.pkl\")\n",
    "bn_graphmemizer.save_vocab('temp/vocobulary.json')\n",
    "bn_graphmemizer.save_out_of_vocobulary_info('temp/save_out_of_vocobulary_info.json')\n",
    "bn_graphmemizer.load(\"temp/tokenizer_object_20230131_21.40.06.pkl\")"
   ]
  }
 ],
 "metadata": {
  "kernelspec": {
   "display_name": "pytorch1.10",
   "language": "python",
   "name": "python3"
  },
  "language_info": {
   "codemirror_mode": {
    "name": "ipython",
    "version": 3
   },
   "file_extension": ".py",
   "mimetype": "text/x-python",
   "name": "python",
   "nbconvert_exporter": "python",
   "pygments_lexer": "ipython3",
   "version": "3.9.13"
  },
  "orig_nbformat": 4,
  "vscode": {
   "interpreter": {
    "hash": "ed5d878878b9f6b71826320145ffe862892db6a15203f4cdc0137670dfd93d2b"
   }
  }
 },
 "nbformat": 4,
 "nbformat_minor": 2
}
